{
 "cells": [
  {
   "cell_type": "code",
   "execution_count": 1,
   "metadata": {},
   "outputs": [],
   "source": [
    "from __future__ import division\n",
    "import pandas as pd\n",
    "import os \n",
    "import sys\n",
    "import numpy as np\n",
    "import math\n",
    "from collections import Counter\n",
    "from glob import glob"
   ]
  },
  {
   "cell_type": "markdown",
   "metadata": {},
   "source": [
    "## Overview\n",
    "This notebook goes over reading in experiment events and recall data of some subjects. Pandas is a useful package in Python that helps you manage dataframes effectively (To read more, see https://pandas.pydata.org). Mainly using Pandas, we will go over reading in some csv data files and getting the most liked and disliked of the stimuli that were presented to the subjects. \n",
    "\n",
    "In order to count the likes and dislikes, we need the recall csv file and events file for each subject. Before we start the Python codes, let's make sure we have all the data in one place. We will copy some necessary files from the server to the cdcatmr directory for this part.\n",
    "\n",
    "---"
   ]
  },
  {
   "cell_type": "markdown",
   "metadata": {},
   "source": [
    "### 1. let's scp data\n",
    "let's create a `test_data` folder inside `cdcatmr/data/` in which we will store all the rec.csv and events.csv files of every subject from the server.\n",
    "\n",
    "1. First create `test_data`. You can open your data folder and create it. Or use terminal. cd into the cdcatmr/data directory and type: `mkdir test_data`. Then, make `events` and `rec` folders inside `test_data`. We will store all rec.csv files in `rec` and all events.csv files in `events`.\n",
    "<br>\n",
    "\n",
    "2. Now open terminal, cd into the `test_data` directory you just created. Then type: \n",
    "```\n",
    "scp yourVUNet@memory.psy.vanderbilt.edu:'/data/beh/cdcatbeh/*/*rec.csv' ./rec\n",
    "```\n",
    "Notice it is just the dot at the end. The dot is basically telling your current location (`test_data`). If it works, it should move all the subject rec files from the server. \n",
    "<br>\n",
    "\n",
    "3. Now let's get all the events files. In the same folder location, Type: \n",
    "```\n",
    "scp jeonj1@memory.psy.vanderbilt.edu:’/data/beh/cdcatbeh/*/*events.csv’ ./events\n",
    "```\n",
    "<br>\n",
    "\n",
    "4. Now let's remove some corrupted data. In both rec and events file, manually remove subjects 4, 27, 29, 37, and 63."
   ]
  },
  {
   "cell_type": "markdown",
   "metadata": {},
   "source": [
    "---\n",
    "\n",
    "### 2. Set paths and read files\n",
    "Now that we have all the files in one place, let's set the paths so the program knows where to find certain files. "
   ]
  },
  {
   "cell_type": "code",
   "execution_count": 2,
   "metadata": {},
   "outputs": [],
   "source": [
    "rootDir = os.getcwd()  # os.getcwd() is equivalent to pwd, showing the current path\n",
    "# recursively set pwd as 'data' folder\n",
    "while os.path.basename(rootDir) != 'cdcatmr':\n",
    "    os.chdir('..')\n",
    "    rootDir = os.getcwd()\n",
    "dataDir = rootDir + '/data'  # from cdcatmr directory, add /data\n",
    "stimDir = rootDir + '/stimuli'  # from cdcatmr directory, add /stimuli directory to access all the list of stimuli\n",
    "\n",
    "os.chdir(stimDir)\n",
    "\n",
    "# call in cdcatmr stim pool\n",
    "with open('cel_names.txt', 'r') as f:\n",
    "    cel_list = f.read().splitlines()  # this will give you all the list of celeb names\n",
    "with open('loc_names.txt', 'r') as f:\n",
    "    loc_list = f.read().splitlines()  # this will give you all the list of location names\n",
    "with open('obj_names.txt', 'r') as f:\n",
    "    obj_list = f.read().splitlines()  # this will give you all the list of object names\n",
    "    \n",
    "total_list = cel_list + loc_list + obj_list\n",
    "\n",
    "recDir = dataDir + '/test_data/rec'\n",
    "eventsDir = dataDir + '/test_data/events'"
   ]
  },
  {
   "cell_type": "markdown",
   "metadata": {},
   "source": [
    "---\n",
    "### 3. Locate all csv files\n",
    "Now we locate all the csv files we want:"
   ]
  },
  {
   "cell_type": "code",
   "execution_count": 12,
   "metadata": {},
   "outputs": [
    {
     "name": "stdout",
     "output_type": "stream",
     "text": [
      "Found 81 subjects.\n"
     ]
    }
   ],
   "source": [
    "all_recalls = [y for x in os.walk(recDir) for y in glob(os.path.join(x[0], '*rec.csv'))]\n",
    "all_events = [y for x in os.walk(eventsDir) for y in glob(os.path.join(x[0], '*cat_all_events.csv'))]\n",
    "all_recalls.sort()\n",
    "all_events.sort()\n",
    "\n",
    "assert len(all_recalls) == len(all_events), \"detected events and recalls csvs do not match\"\n",
    "print('Found ' + str(len(all_events)) + ' subjects.')"
   ]
  },
  {
   "cell_type": "markdown",
   "metadata": {},
   "source": [
    "---\n",
    "### 4. Loop over to count likes and dislikes\n",
    "Now we can loop through each event file to find likes and dislikes."
   ]
  },
  {
   "cell_type": "code",
   "execution_count": 6,
   "metadata": {},
   "outputs": [],
   "source": [
    "# we first initialize empty lists\n",
    "liked_items = []\n",
    "disliked_items = []\n",
    "\n",
    "# e here stands for each event file (all_events is a list of all the events.rec files)\n",
    "for e in all_events:\n",
    "    events = pd.read_csv(e)  # we read in the first events.csv file\n",
    "    stims = []  \n",
    "    for i in range (0, len(events)):\n",
    "        if events.iloc[i]['types'] == 'stim_pres':  # now if the event type is a stimuli presentation\n",
    "            stims.append(events.iloc[i])  # add to the unique stim list\n",
    "    # at this point, stims will have all the events with just stim_pres\n",
    "\n",
    "    # now we check individual stim_pres items to see if like/dislike was pressed\n",
    "    for i in range(0, len(stims)):\n",
    "        if stims[i]['resp'] == 'period':\n",
    "            liked_items.append(stims[i]['item'])\n",
    "        elif stims[i]['resp'] == 'slash':\n",
    "            disliked_items.append(stims[i]['item'])"
   ]
  },
  {
   "cell_type": "markdown",
   "metadata": {},
   "source": [
    "---\n",
    "### 5. Get like/dislike percentage\n",
    "Now at this point, `liked_items` will have all the liked images, and `disliked_items` will have all the dislikes. Typing `len(liked_items)` will show you the total likes. `liked_items[0]` will show you the first item that was liked. Knowing the total counts of likes and dislikes, we will get the percentage of each. "
   ]
  },
  {
   "cell_type": "code",
   "execution_count": 7,
   "metadata": {},
   "outputs": [
    {
     "name": "stdout",
     "output_type": "stream",
     "text": [
      "0.777108433735\n",
      "0.222891566265\n"
     ]
    }
   ],
   "source": [
    "# show proportion of liked vs disliked\n",
    "liked_percent = len(liked_items) / (len(liked_items) + len(disliked_items))\n",
    "disliked_percent = len(disliked_items) / (len(liked_items) + len(disliked_items))\n",
    "\n",
    "print('likes %: ' + str(liked_percent))\n",
    "print('dislikes %: ' + str(disliked_percent))"
   ]
  },
  {
   "cell_type": "markdown",
   "metadata": {},
   "source": [
    "### 6. Finding most likes/dislikes items\n",
    "Now let's try to see the most likes and dislikes of items. To implement this, we use a special function called `collections.Counter` that really simplifies the process. It will basically count up for you with all the unique items in a given list. "
   ]
  },
  {
   "cell_type": "code",
   "execution_count": 8,
   "metadata": {},
   "outputs": [
    {
     "data": {
      "text/plain": [
       "[('Niagara Falls', 74),\n",
       " ('Great Wall of China', 73),\n",
       " ('Barack Obama', 72),\n",
       " ('dollar', 70),\n",
       " ('Florence', 70),\n",
       " ('bicycle', 70),\n",
       " ('Swiss Alps', 70),\n",
       " ('Amazon River', 69),\n",
       " ('Times Square', 69),\n",
       " ('book', 68)]"
      ]
     },
     "execution_count": 8,
     "metadata": {},
     "output_type": "execute_result"
    }
   ],
   "source": [
    "# let's see the most liked/disliked items\n",
    "likes = Counter(liked_items)\n",
    "\n",
    "# get the first ten items\n",
    "likes.most_common()[0:10]"
   ]
  },
  {
   "cell_type": "code",
   "execution_count": 9,
   "metadata": {},
   "outputs": [
    {
     "data": {
      "text/plain": [
       "[('hurdle', 39),\n",
       " ('cigar', 37),\n",
       " ('trash can', 36),\n",
       " ('Alec Baldwin', 35),\n",
       " ('Ricky Martin', 35),\n",
       " ('brick', 35),\n",
       " ('cradle', 34),\n",
       " ('Indianapolis Speedway', 33),\n",
       " ('Julianne Moore', 33),\n",
       " ('satellite dish', 33)]"
      ]
     },
     "execution_count": 9,
     "metadata": {},
     "output_type": "execute_result"
    }
   ],
   "source": [
    "dislikes = Counter(disliked_items)\n",
    "\n",
    "# get the top ten items\n",
    "dislikes.most_common()[0:10]"
   ]
  },
  {
   "cell_type": "markdown",
   "metadata": {},
   "source": [
    "---\n",
    "---\n",
    "### Finding if liking leads to recalling better:\n",
    "Warning: it takes a while to run the code. Run at your own risk :)"
   ]
  },
  {
   "cell_type": "code",
   "execution_count": null,
   "metadata": {},
   "outputs": [],
   "source": [
    "recalls = pd.read_csv(all_recalls[0])\n",
    "recalls.head()\n",
    "os.path.basename(all_recalls[0])[:-7]"
   ]
  },
  {
   "cell_type": "code",
   "execution_count": null,
   "metadata": {},
   "outputs": [],
   "source": [
    "for i in range(0, len(all_recalls)):\n",
    "    recall_name = os.path.basename(all_recalls[i])[:-7]\n",
    "    events_name = os.path.basename(all_events[i])[:-18]\n",
    "    if not recall_name == events_name:\n",
    "        print(\"file don't match: \" + recall_name + ' | ' + events_name)"
   ]
  },
  {
   "cell_type": "code",
   "execution_count": null,
   "metadata": {},
   "outputs": [],
   "source": [
    "liked_recall = []\n",
    "disliked_recall = []\n",
    "\n",
    "for s in range(0, len(all_recalls)):\n",
    "    recall = pd.read_csv(all_recalls[s])\n",
    "    events = pd.read_csv(all_events[s])\n",
    "    print('subject ' + str(s))\n",
    "    \n",
    "    for r in range(0, len(recalls)):\n",
    "        if recalls.iloc[r]['intrusion'] == 0:\n",
    "            recalled_item = recalls.iloc[r]['item']\n",
    "            \n",
    "            for e in range(0, len(events)):\n",
    "                if events.iloc[e]['item'] == recalled_item:\n",
    "                    if events.iloc[e]['resp'] == 'period':\n",
    "                        liked_recall.append(events.iloc[e])\n",
    "                        break\n",
    "                    elif events.iloc[e]['resp'] == 'slash':\n",
    "                        disliked_recall.append(events.iloc[e])\n",
    "                        break\n",
    "                    \n",
    "print(len(liked_recall))  # 6714\n",
    "print(len(disliked_recall))  # 2001"
   ]
  },
  {
   "cell_type": "code",
   "execution_count": null,
   "metadata": {},
   "outputs": [],
   "source": [
    "count_likes = 0\n",
    "count_dislikes = 0\n",
    "for e in range(0, len(all_events)):\n",
    "    events = pd.read_csv(all_events[e])\n",
    "\n",
    "    for i in range(0, len(events)):\n",
    "        if events.iloc[i]['types'] == 'stim_pres':\n",
    "            if events.iloc[i]['resp'] == 'period':\n",
    "                count_likes += 1\n",
    "            elif events.iloc[i]['resp'] == 'slash':\n",
    "                count_dislikes += 1\n",
    "print(count_likes)  # 12642\n",
    "print(count_dislikes)  # 3626\n",
    "print(6714\n",
    "print(len(disliked_recall))  # 2001"
   ]
  },
  {
   "cell_type": "code",
   "execution_count": null,
   "metadata": {},
   "outputs": [],
   "source": [
    "print(6714/12642)\n",
    "print(2001/3626)"
   ]
  },
  {
   "cell_type": "code",
   "execution_count": null,
   "metadata": {},
   "outputs": [],
   "source": [
    "all_recalls = all_recalls[0:2]\n",
    "all_events = all_events[0:2]\n",
    "len(all_recalls)"
   ]
  },
  {
   "cell_type": "code",
   "execution_count": null,
   "metadata": {},
   "outputs": [],
   "source": [
    "liked_recall = []\n",
    "disliked_recall = []\n",
    "liked_not_recall = []\n",
    "disliked_not_recall = []\n",
    "\n",
    "for s in range(0, len(all_recalls)):\n",
    "    recall = pd.read_csv(all_recalls[s])\n",
    "    events = pd.read_csv(all_events[s])\n",
    "    print('subject ' + str(s))\n",
    "    for e in range(0, len(events)):\n",
    "        if events.iloc[e]['types'] == 'stim_pres':\n",
    "            print('events line '+ str(e))\n",
    "            presented_item = events.iloc[e]['item']\n",
    "            keypress = events.iloc[e]['resp']\n",
    "            item_trial = events.iloc[e]['trialN']\n",
    "            \n",
    "            recalled = False\n",
    "            for r in range(0, len(recalls)):\n",
    "#                 print('recall line ' + str(r))\n",
    "                if recalls.iloc[r]['trialN'] == item_trial:\n",
    "                    recalled_item = recalls.iloc[r]['item']\n",
    "                    if recalled_item == presented_item:\n",
    "                        if keypress == 'period':\n",
    "                            liked_recall.append(events.iloc[e])\n",
    "                            recalled = True\n",
    "                            continue\n",
    "                        elif keypress == 'slash':\n",
    "                            disliked_recall.append(events.iloc[e])\n",
    "                            recalled = True\n",
    "                            continue\n",
    "                if recalls.iloc[r]['trialN'] != item_trial:\n",
    "                    recalled = False\n",
    "                    if keypress == 'period':\n",
    "                        liked_not_recall.append(events.iloc[e])\n",
    "                        continue\n",
    "                    elif keypress == 'slash':\n",
    "                        disliked_not_recall.append(events.iloc[e])\n",
    "                        continue\n",
    "                        \n",
    "print(len(liked_recall))\n",
    "print(len(disliked_recall))\n",
    "print(len(liked_not_recall))\n",
    "print(len(disliked_not_recall))"
   ]
  },
  {
   "cell_type": "code",
   "execution_count": null,
   "metadata": {},
   "outputs": [],
   "source": [
    "print(len(liked_recall))\n",
    "print(len(disliked_recall))\n",
    "print(len(liked_not_recall))\n",
    "print(len(disliked_not_recall))"
   ]
  },
  {
   "cell_type": "code",
   "execution_count": null,
   "metadata": {},
   "outputs": [],
   "source": [
    "for "
   ]
  },
  {
   "cell_type": "code",
   "execution_count": null,
   "metadata": {},
   "outputs": [],
   "source": [
    "stims = []\n",
    "for i in range (0, len(events)):\n",
    "    if events.iloc[i]['types'] == 'stim_pres':\n",
    "        stims.append(events.iloc[i])"
   ]
  },
  {
   "cell_type": "code",
   "execution_count": null,
   "metadata": {},
   "outputs": [],
   "source": [
    "count = 0"
   ]
  },
  {
   "cell_type": "code",
   "execution_count": null,
   "metadata": {},
   "outputs": [],
   "source": [
    "for i in range (0, len(stims)):\n",
    "    if stims[i]['resp'] == 'period':\n",
    "        count = count + 1"
   ]
  },
  {
   "cell_type": "code",
   "execution_count": null,
   "metadata": {},
   "outputs": [],
   "source": [
    "count"
   ]
  },
  {
   "cell_type": "code",
   "execution_count": null,
   "metadata": {},
   "outputs": [],
   "source": [
    "countSlash = 0\n",
    "disliked_items = []"
   ]
  },
  {
   "cell_type": "code",
   "execution_count": null,
   "metadata": {},
   "outputs": [],
   "source": [
    "for i in range (0, len(stims)):\n",
    "    if stims[i]['resp'] == 'period':\n",
    "        count = count + 1\n",
    "for i in range (0, len(stims)):\n",
    "    if stims[i]['resp'] == 'slash':\n",
    "        countSlash = countSlash + 1"
   ]
  },
  {
   "cell_type": "code",
   "execution_count": null,
   "metadata": {},
   "outputs": [],
   "source": [
    "countSlash"
   ]
  },
  {
   "cell_type": "code",
   "execution_count": null,
   "metadata": {},
   "outputs": [],
   "source": [
    "countNan = 0"
   ]
  },
  {
   "cell_type": "code",
   "execution_count": null,
   "metadata": {},
   "outputs": [],
   "source": [
    "countNan = 0\n",
    "for i in range (0, len(stims)):\n",
    "    try:\n",
    "        if math.isnan(stims[i]['resp']):\n",
    "            countNan = countNan + 1\n",
    "    except TypeError:\n",
    "        pass\n",
    "countNan"
   ]
  },
  {
   "cell_type": "code",
   "execution_count": null,
   "metadata": {},
   "outputs": [],
   "source": [
    "liked_items = []\n",
    "disliked_items = []\n",
    "for i in range(0, len(stims)):\n",
    "    if stims[i]['resp'] == 'period':\n",
    "        liked_items.append(stims[i]['item'])\n",
    "    elif stims[i]['resp'] == 'slash':\n",
    "        disliked_items.append(stims[i]['item'])\n",
    "print(len(liked_items))\n",
    "print(len(disliked_items))"
   ]
  },
  {
   "cell_type": "code",
   "execution_count": null,
   "metadata": {},
   "outputs": [],
   "source": [
    "recalls = pd.read_csv(subjDir + '/cdcatbeh078rec.csv')"
   ]
  },
  {
   "cell_type": "code",
   "execution_count": null,
   "metadata": {},
   "outputs": [],
   "source": [
    "disliked_items"
   ]
  },
  {
   "cell_type": "code",
   "execution_count": null,
   "metadata": {},
   "outputs": [],
   "source": []
  }
 ],
 "metadata": {
  "kernelspec": {
   "display_name": "Python 2",
   "language": "python",
   "name": "python2"
  },
  "language_info": {
   "codemirror_mode": {
    "name": "ipython",
    "version": 2
   },
   "file_extension": ".py",
   "mimetype": "text/x-python",
   "name": "python",
   "nbconvert_exporter": "python",
   "pygments_lexer": "ipython2",
   "version": "2.7.10"
  }
 },
 "nbformat": 4,
 "nbformat_minor": 2
}
